{
 "cells": [
  {
   "cell_type": "code",
   "execution_count": 1,
   "metadata": {},
   "outputs": [],
   "source": [
    "import pandas as pd\n",
    "import numpy as np\n",
    "from scipy import stats\n",
    "import itertools\n",
    "import pathlib\n",
    "import os"
   ]
  },
  {
   "cell_type": "code",
   "execution_count": 24,
   "metadata": {},
   "outputs": [],
   "source": [
    "df = pd.read_csv(str(pathlib.Path(\"GSE134896_FSKrepExpTable.csv\")))\n",
    "#df = df.drop('Gene_Name', 1)"
   ]
  },
  {
   "cell_type": "code",
   "execution_count": 3,
   "metadata": {},
   "outputs": [],
   "source": [
    "default_groups = [\n",
    "    ['CTRL_0', 'CTRL_1', 'CTRL_2'],\n",
    "    ['P4_0', 'P4_1', 'P4_2'],\n",
    "    ['IL1B_0', 'IL1B_1', 'IL1B_2'],\n",
    "    ['FSK_0', 'FSK_1', 'FSK_2'],\n",
    "    ['FSK_P4_0', 'FSK_P4_1', 'FSK_P4_2'],\n",
    "    ['P4_IL1B_0', 'P4_IL1B_1', 'P4_IL1B_2'],\n",
    "    ['FSK_IL1B_0','FSK_IL1B_1', 'FSK_IL1B_2',],\n",
    "    ['FSK_P4_IL1B_0', 'FSK_P4_IL1B_1','FSK_P4_IL1B_2']\n",
    "]"
   ]
  },
  {
   "cell_type": "code",
   "execution_count": 4,
   "metadata": {},
   "outputs": [],
   "source": [
    "def differentially_expressed_genes_t_test(row, x_column_list, y_column_list):\n",
    "    x_distribution = list(row[x_column_list])\n",
    "    y_distribution = list(row[y_column_list])\n",
    "\n",
    "    t_statistic, p_value = stats.ttest_ind(x_distribution, y_distribution)\n",
    "\n",
    "    return abs(t_statistic)"
   ]
  },
  {
   "cell_type": "code",
   "execution_count": 5,
   "metadata": {},
   "outputs": [],
   "source": [
    "\n",
    "def differentially_expressed_genes_difference(row):\n",
    "\n",
    "    difference = abs(row['final_x_values'] - row['final_y_values']) \n",
    "\n",
    "    return difference"
   ]
  },
  {
   "cell_type": "code",
   "execution_count": null,
   "metadata": {},
   "outputs": [],
   "source": [
    "for i in range(len(df.columnns))"
   ]
  },
  {
   "cell_type": "code",
   "execution_count": 13,
   "metadata": {},
   "outputs": [],
   "source": [
    "all_combos = itertools.combinations(df.columns, len(df.columns))"
   ]
  },
  {
   "cell_type": "code",
   "execution_count": 107,
   "metadata": {},
   "outputs": [],
   "source": [
    "all_combos = []\n",
    "\n",
    "for L in range(2, 4):\n",
    "    for subset in itertools.combinations(df.columns, L):\n",
    "        current_subset = list(subset)\n",
    "        current_subset.sort()\n",
    "        #print(current_subset)\n",
    "        \n",
    "        all_combos.append(current_subset)"
   ]
  },
  {
   "cell_type": "code",
   "execution_count": 7,
   "metadata": {},
   "outputs": [],
   "source": [
    "results = []\n",
    "a = ['CTRL_0', 'P4_1']\n",
    "b =  ['IL1B_0', 'FSK_P4_2', 'FSK_P4_1']\n",
    "for i, row in df.iterrows():\n",
    "    results.append(differentially_expressed_genes_t_test(row, a, b))"
   ]
  },
  {
   "cell_type": "code",
   "execution_count": 8,
   "metadata": {},
   "outputs": [],
   "source": [
    "new_df = pd.DataFrame({\n",
    "    'counter':range(0, len(df)),\n",
    "    'results':results\n",
    "})"
   ]
  },
  {
   "cell_type": "code",
   "execution_count": 26,
   "metadata": {},
   "outputs": [
    {
     "data": {
      "text/html": [
       "<div>\n",
       "<style scoped>\n",
       "    .dataframe tbody tr th:only-of-type {\n",
       "        vertical-align: middle;\n",
       "    }\n",
       "\n",
       "    .dataframe tbody tr th {\n",
       "        vertical-align: top;\n",
       "    }\n",
       "\n",
       "    .dataframe thead th {\n",
       "        text-align: right;\n",
       "    }\n",
       "</style>\n",
       "<table border=\"1\" class=\"dataframe\">\n",
       "  <thead>\n",
       "    <tr style=\"text-align: right;\">\n",
       "      <th></th>\n",
       "      <th>Gene_Name</th>\n",
       "      <th>CTRL_0</th>\n",
       "      <th>CTRL_1</th>\n",
       "      <th>CTRL_2</th>\n",
       "      <th>P4_0</th>\n",
       "      <th>P4_1</th>\n",
       "      <th>P4_2</th>\n",
       "      <th>IL1B_0</th>\n",
       "      <th>IL1B_1</th>\n",
       "      <th>IL1B_2</th>\n",
       "      <th>...</th>\n",
       "      <th>FSK_P4_2</th>\n",
       "      <th>P4_IL1B_0</th>\n",
       "      <th>P4_IL1B_1</th>\n",
       "      <th>P4_IL1B_2</th>\n",
       "      <th>FSK_IL1B_0</th>\n",
       "      <th>FSK_IL1B_1</th>\n",
       "      <th>FSK_IL1B_2</th>\n",
       "      <th>FSK_P4_IL1B_0</th>\n",
       "      <th>FSK_P4_IL1B_1</th>\n",
       "      <th>FSK_P4_IL1B_2</th>\n",
       "    </tr>\n",
       "  </thead>\n",
       "  <tbody>\n",
       "    <tr>\n",
       "      <th>11916</th>\n",
       "      <td>RNU86</td>\n",
       "      <td>3132.33</td>\n",
       "      <td>12934.7</td>\n",
       "      <td>9309.93</td>\n",
       "      <td>12101.3</td>\n",
       "      <td>7080.37</td>\n",
       "      <td>6130.15</td>\n",
       "      <td>9583.74</td>\n",
       "      <td>10205.1</td>\n",
       "      <td>9719.47</td>\n",
       "      <td>...</td>\n",
       "      <td>15074.3</td>\n",
       "      <td>6355.85</td>\n",
       "      <td>10479.5</td>\n",
       "      <td>7832.05</td>\n",
       "      <td>10980.9</td>\n",
       "      <td>24857.1</td>\n",
       "      <td>17080.1</td>\n",
       "      <td>13801.5</td>\n",
       "      <td>13794.0</td>\n",
       "      <td>11215.3</td>\n",
       "    </tr>\n",
       "  </tbody>\n",
       "</table>\n",
       "<p>1 rows × 25 columns</p>\n",
       "</div>"
      ],
      "text/plain": [
       "      Gene_Name   CTRL_0   CTRL_1   CTRL_2     P4_0     P4_1     P4_2  \\\n",
       "11916     RNU86  3132.33  12934.7  9309.93  12101.3  7080.37  6130.15   \n",
       "\n",
       "        IL1B_0   IL1B_1   IL1B_2  ...  FSK_P4_2  P4_IL1B_0  P4_IL1B_1  \\\n",
       "11916  9583.74  10205.1  9719.47  ...   15074.3    6355.85    10479.5   \n",
       "\n",
       "       P4_IL1B_2  FSK_IL1B_0  FSK_IL1B_1  FSK_IL1B_2  FSK_P4_IL1B_0  \\\n",
       "11916    7832.05     10980.9     24857.1     17080.1        13801.5   \n",
       "\n",
       "       FSK_P4_IL1B_1  FSK_P4_IL1B_2  \n",
       "11916        13794.0        11215.3  \n",
       "\n",
       "[1 rows x 25 columns]"
      ]
     },
     "execution_count": 26,
     "metadata": {},
     "output_type": "execute_result"
    }
   ],
   "source": [
    "df[df['Gene_Name'] == 'RNU86']"
   ]
  },
  {
   "cell_type": "code",
   "execution_count": 11,
   "metadata": {},
   "outputs": [
    {
     "data": {
      "text/plain": [
       "0         0.834058\n",
       "1         1.044874\n",
       "2         0.012334\n",
       "3         0.919462\n",
       "4         0.646901\n",
       "           ...    \n",
       "16495     0.276776\n",
       "16496     1.881960\n",
       "16497    30.629348\n",
       "16498     1.136061\n",
       "16499     4.104211\n",
       "Length: 16500, dtype: float64"
      ]
     },
     "execution_count": 11,
     "metadata": {},
     "output_type": "execute_result"
    }
   ],
   "source": [
    "df.std(axis=1)"
   ]
  },
  {
   "cell_type": "code",
   "execution_count": 12,
   "metadata": {},
   "outputs": [
    {
     "data": {
      "text/plain": [
       "0          3.134682\n",
       "1          4.609794\n",
       "2          0.022322\n",
       "3          2.125368\n",
       "4          1.496668\n",
       "            ...    \n",
       "16495      2.288187\n",
       "16496      9.748658\n",
       "16497    159.030708\n",
       "16498     11.590671\n",
       "16499     27.119412\n",
       "Length: 16500, dtype: float64"
      ]
     },
     "execution_count": 12,
     "metadata": {},
     "output_type": "execute_result"
    }
   ],
   "source": [
    "df.mean(axis=1)"
   ]
  },
  {
   "cell_type": "code",
   "execution_count": 23,
   "metadata": {},
   "outputs": [
    {
     "data": {
      "text/plain": [
       "(16500,)"
      ]
     },
     "execution_count": 23,
     "metadata": {},
     "output_type": "execute_result"
    }
   ],
   "source": [
    "(df['CTRL_0'].values).shape"
   ]
  },
  {
   "cell_type": "code",
   "execution_count": 50,
   "metadata": {},
   "outputs": [
    {
     "name": "stdout",
     "output_type": "stream",
     "text": [
      "[[ 7  8]\n",
      " [ 9 10]\n",
      " [11 12]\n",
      " [13 14]]\n",
      "[[1]\n",
      " [2]\n",
      " [3]\n",
      " [4]]\n"
     ]
    },
    {
     "data": {
      "text/plain": [
       "array([[ 6,  7],\n",
       "       [ 7,  8],\n",
       "       [ 8,  9],\n",
       "       [ 9, 10]])"
      ]
     },
     "execution_count": 50,
     "metadata": {},
     "output_type": "execute_result"
    }
   ],
   "source": [
    "c = np.array([[7, 8], [9, 10],\n",
    "[11, 12], [13, 14]])\n",
    "a = np.array([1, 2, 3, 4 ])\n",
    "a = a[:, np.newaxis]\n",
    "print(c)\n",
    "print(a)\n",
    "(c- a)"
   ]
  },
  {
   "cell_type": "code",
   "execution_count": null,
   "metadata": {},
   "outputs": [],
   "source": [
    "n = 5\n",
    "for i in range(5):\n",
    "    for j in range(1, 5):\n",
    "        current_x = all_combos[i]\n",
    "        current_y = all_combos[j]\n",
    "        difference_measure = np.array(df.apply(differentially_expressed_genes_t_test, args = [current_x, current_y], axis = 1))\n",
    "        indices = np.argpartition(-difference_measure, n)[:n]\n",
    "        temp_df = pd.DataFrame({\n",
    "            'indices':indices\n",
    "        })\n",
    "        current_key = ''.join(current_x) + ''.join(current_y)\n",
    "        temp_df.to_csv(pathlib.Path('t_test_cache/' + current_key + '.csv'))"
   ]
  },
  {
   "cell_type": "code",
   "execution_count": 5,
   "metadata": {},
   "outputs": [],
   "source": [
    "\n",
    "file_path = str(pathlib.Path('t_test_cache/CTRL_0CTRL_1CTRL_0P4_1.csv'))\n",
    "if(os.path.exists(file_path)):\n",
    "    cache_df = pd.read_csv(file_path)\n"
   ]
  },
  {
   "cell_type": "code",
   "execution_count": 7,
   "metadata": {},
   "outputs": [
    {
     "data": {
      "text/plain": [
       "0    10125\n",
       "1    13234\n",
       "2     8161\n",
       "3    14856\n",
       "4    10104\n",
       "Name: indices, dtype: int64"
      ]
     },
     "execution_count": 7,
     "metadata": {},
     "output_type": "execute_result"
    }
   ],
   "source": [
    "cache_df['indices']"
   ]
  },
  {
   "cell_type": "code",
   "execution_count": null,
   "metadata": {},
   "outputs": [],
   "source": []
  }
 ],
 "metadata": {
  "kernelspec": {
   "display_name": "Python 3",
   "language": "python",
   "name": "python3"
  },
  "language_info": {
   "codemirror_mode": {
    "name": "ipython",
    "version": 3
   },
   "file_extension": ".py",
   "mimetype": "text/x-python",
   "name": "python",
   "nbconvert_exporter": "python",
   "pygments_lexer": "ipython3",
   "version": "3.6.9"
  }
 },
 "nbformat": 4,
 "nbformat_minor": 4
}
